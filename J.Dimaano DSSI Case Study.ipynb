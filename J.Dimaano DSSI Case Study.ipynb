{
 "cells": [
  {
   "cell_type": "markdown",
   "id": "9daefeea",
   "metadata": {},
   "source": [
    "## Exploratory data analysis/Data Cleaning"
   ]
  },
  {
   "cell_type": "code",
   "execution_count": 1,
   "id": "36a913f5",
   "metadata": {},
   "outputs": [],
   "source": [
    "import pandas as pd\n",
    "import matplotlib.pyplot as plt\n",
    "import numpy as np\n",
    "import seaborn as sns\n",
    "from sklearn.model_selection import train_test_split\n",
    "from sklearn.linear_model import LinearRegression\n",
    "from sklearn.metrics import (mean_squared_error, mean_absolute_error, r2_score)\n",
    "from scipy.stats.stats import pearsonr"
   ]
  },
  {
   "cell_type": "code",
   "execution_count": 2,
   "id": "0ae09c1a",
   "metadata": {},
   "outputs": [],
   "source": [
    "df = pd.read_csv('dataset.csv')"
   ]
  },
  {
   "cell_type": "code",
   "execution_count": 3,
   "id": "6f7c41bc",
   "metadata": {},
   "outputs": [
    {
     "data": {
      "text/html": [
       "<div>\n",
       "<style scoped>\n",
       "    .dataframe tbody tr th:only-of-type {\n",
       "        vertical-align: middle;\n",
       "    }\n",
       "\n",
       "    .dataframe tbody tr th {\n",
       "        vertical-align: top;\n",
       "    }\n",
       "\n",
       "    .dataframe thead th {\n",
       "        text-align: right;\n",
       "    }\n",
       "</style>\n",
       "<table border=\"1\" class=\"dataframe\">\n",
       "  <thead>\n",
       "    <tr style=\"text-align: right;\">\n",
       "      <th></th>\n",
       "      <th>ID</th>\n",
       "      <th>Policy Start Date</th>\n",
       "      <th>Policy End Date</th>\n",
       "      <th>Revenue</th>\n",
       "      <th>Feature 1</th>\n",
       "      <th>Feature 2</th>\n",
       "      <th>Feature 3</th>\n",
       "    </tr>\n",
       "  </thead>\n",
       "  <tbody>\n",
       "    <tr>\n",
       "      <th>0</th>\n",
       "      <td>2457</td>\n",
       "      <td>2020-10-01</td>\n",
       "      <td>2021-06-01</td>\n",
       "      <td>156.710314</td>\n",
       "      <td>1.0</td>\n",
       "      <td>0.0</td>\n",
       "      <td>0.649264</td>\n",
       "    </tr>\n",
       "    <tr>\n",
       "      <th>1</th>\n",
       "      <td>2458</td>\n",
       "      <td>2021-07-01</td>\n",
       "      <td>2021-11-01</td>\n",
       "      <td>190.236838</td>\n",
       "      <td>1.0</td>\n",
       "      <td>0.0</td>\n",
       "      <td>0.119590</td>\n",
       "    </tr>\n",
       "    <tr>\n",
       "      <th>2</th>\n",
       "      <td>2459</td>\n",
       "      <td>2020-01-01</td>\n",
       "      <td>2021-06-01</td>\n",
       "      <td>183.123384</td>\n",
       "      <td>0.0</td>\n",
       "      <td>0.0</td>\n",
       "      <td>0.749034</td>\n",
       "    </tr>\n",
       "    <tr>\n",
       "      <th>3</th>\n",
       "      <td>2460</td>\n",
       "      <td>2021-09-01</td>\n",
       "      <td>2021-09-01</td>\n",
       "      <td>24.626305</td>\n",
       "      <td>0.0</td>\n",
       "      <td>1.0</td>\n",
       "      <td>0.498292</td>\n",
       "    </tr>\n",
       "    <tr>\n",
       "      <th>4</th>\n",
       "      <td>2461</td>\n",
       "      <td>2021-10-01</td>\n",
       "      <td>2021-10-01</td>\n",
       "      <td>30.184129</td>\n",
       "      <td>1.0</td>\n",
       "      <td>1.0</td>\n",
       "      <td>0.865428</td>\n",
       "    </tr>\n",
       "  </tbody>\n",
       "</table>\n",
       "</div>"
      ],
      "text/plain": [
       "     ID Policy Start Date Policy End Date     Revenue  Feature 1  Feature 2  \\\n",
       "0  2457        2020-10-01      2021-06-01  156.710314        1.0        0.0   \n",
       "1  2458        2021-07-01      2021-11-01  190.236838        1.0        0.0   \n",
       "2  2459        2020-01-01      2021-06-01  183.123384        0.0        0.0   \n",
       "3  2460        2021-09-01      2021-09-01   24.626305        0.0        1.0   \n",
       "4  2461        2021-10-01      2021-10-01   30.184129        1.0        1.0   \n",
       "\n",
       "   Feature 3  \n",
       "0   0.649264  \n",
       "1   0.119590  \n",
       "2   0.749034  \n",
       "3   0.498292  \n",
       "4   0.865428  "
      ]
     },
     "execution_count": 3,
     "metadata": {},
     "output_type": "execute_result"
    }
   ],
   "source": [
    "df.head()"
   ]
  },
  {
   "cell_type": "code",
   "execution_count": 4,
   "id": "bfa1f89c",
   "metadata": {},
   "outputs": [
    {
     "data": {
      "text/plain": [
       "ID                     int64\n",
       "Policy Start Date     object\n",
       "Policy End Date       object\n",
       "Revenue              float64\n",
       "Feature 1            float64\n",
       "Feature 2            float64\n",
       "Feature 3            float64\n",
       "dtype: object"
      ]
     },
     "execution_count": 4,
     "metadata": {},
     "output_type": "execute_result"
    }
   ],
   "source": [
    "df.dtypes"
   ]
  },
  {
   "cell_type": "code",
   "execution_count": 5,
   "id": "35b8cd20",
   "metadata": {},
   "outputs": [],
   "source": [
    "# cast policy start/end date to datetime\n",
    "df['Policy Start Date'] = pd.to_datetime(df['Policy Start Date'])\n",
    "df['Policy End Date'] = pd.to_datetime(df['Policy End Date'])"
   ]
  },
  {
   "cell_type": "code",
   "execution_count": 6,
   "id": "1198f6f4",
   "metadata": {},
   "outputs": [
    {
     "data": {
      "text/html": [
       "<div>\n",
       "<style scoped>\n",
       "    .dataframe tbody tr th:only-of-type {\n",
       "        vertical-align: middle;\n",
       "    }\n",
       "\n",
       "    .dataframe tbody tr th {\n",
       "        vertical-align: top;\n",
       "    }\n",
       "\n",
       "    .dataframe thead th {\n",
       "        text-align: right;\n",
       "    }\n",
       "</style>\n",
       "<table border=\"1\" class=\"dataframe\">\n",
       "  <thead>\n",
       "    <tr style=\"text-align: right;\">\n",
       "      <th></th>\n",
       "      <th>ID</th>\n",
       "      <th>Revenue</th>\n",
       "      <th>Feature 1</th>\n",
       "      <th>Feature 2</th>\n",
       "      <th>Feature 3</th>\n",
       "    </tr>\n",
       "  </thead>\n",
       "  <tbody>\n",
       "    <tr>\n",
       "      <th>count</th>\n",
       "      <td>65412.000000</td>\n",
       "      <td>6.541200e+04</td>\n",
       "      <td>65412.000000</td>\n",
       "      <td>62705.000000</td>\n",
       "      <td>65412.000000</td>\n",
       "    </tr>\n",
       "    <tr>\n",
       "      <th>mean</th>\n",
       "      <td>34892.801367</td>\n",
       "      <td>1.546202e+04</td>\n",
       "      <td>0.441723</td>\n",
       "      <td>0.231305</td>\n",
       "      <td>0.500645</td>\n",
       "    </tr>\n",
       "    <tr>\n",
       "      <th>std</th>\n",
       "      <td>18757.092150</td>\n",
       "      <td>3.918424e+06</td>\n",
       "      <td>0.496596</td>\n",
       "      <td>0.421670</td>\n",
       "      <td>0.288954</td>\n",
       "    </tr>\n",
       "    <tr>\n",
       "      <th>min</th>\n",
       "      <td>2457.000000</td>\n",
       "      <td>2.371205e+01</td>\n",
       "      <td>0.000000</td>\n",
       "      <td>0.000000</td>\n",
       "      <td>0.000018</td>\n",
       "    </tr>\n",
       "    <tr>\n",
       "      <th>25%</th>\n",
       "      <td>18647.750000</td>\n",
       "      <td>9.197089e+01</td>\n",
       "      <td>0.000000</td>\n",
       "      <td>0.000000</td>\n",
       "      <td>0.250374</td>\n",
       "    </tr>\n",
       "    <tr>\n",
       "      <th>50%</th>\n",
       "      <td>34860.500000</td>\n",
       "      <td>1.253995e+02</td>\n",
       "      <td>0.000000</td>\n",
       "      <td>0.000000</td>\n",
       "      <td>0.500473</td>\n",
       "    </tr>\n",
       "    <tr>\n",
       "      <th>75%</th>\n",
       "      <td>51121.250000</td>\n",
       "      <td>1.902368e+02</td>\n",
       "      <td>1.000000</td>\n",
       "      <td>0.000000</td>\n",
       "      <td>0.750428</td>\n",
       "    </tr>\n",
       "    <tr>\n",
       "      <th>max</th>\n",
       "      <td>67583.000000</td>\n",
       "      <td>1.002167e+09</td>\n",
       "      <td>1.000000</td>\n",
       "      <td>1.000000</td>\n",
       "      <td>0.999997</td>\n",
       "    </tr>\n",
       "  </tbody>\n",
       "</table>\n",
       "</div>"
      ],
      "text/plain": [
       "                 ID       Revenue     Feature 1     Feature 2     Feature 3\n",
       "count  65412.000000  6.541200e+04  65412.000000  62705.000000  65412.000000\n",
       "mean   34892.801367  1.546202e+04      0.441723      0.231305      0.500645\n",
       "std    18757.092150  3.918424e+06      0.496596      0.421670      0.288954\n",
       "min     2457.000000  2.371205e+01      0.000000      0.000000      0.000018\n",
       "25%    18647.750000  9.197089e+01      0.000000      0.000000      0.250374\n",
       "50%    34860.500000  1.253995e+02      0.000000      0.000000      0.500473\n",
       "75%    51121.250000  1.902368e+02      1.000000      0.000000      0.750428\n",
       "max    67583.000000  1.002167e+09      1.000000      1.000000      0.999997"
      ]
     },
     "execution_count": 6,
     "metadata": {},
     "output_type": "execute_result"
    }
   ],
   "source": [
    "df.describe()"
   ]
  },
  {
   "cell_type": "code",
   "execution_count": 7,
   "id": "628e81b7",
   "metadata": {},
   "outputs": [
    {
     "name": "stdout",
     "output_type": "stream",
     "text": [
      "Series([], dtype: bool)\n"
     ]
    }
   ],
   "source": [
    "# check for duplicates\n",
    "search = pd.DataFrame.duplicated(df)\n",
    "print(search[search == True])"
   ]
  },
  {
   "cell_type": "code",
   "execution_count": 8,
   "id": "b84017ef",
   "metadata": {},
   "outputs": [
    {
     "data": {
      "text/plain": [
       "ID                      0\n",
       "Policy Start Date       0\n",
       "Policy End Date         0\n",
       "Revenue                 0\n",
       "Feature 1               0\n",
       "Feature 2            2707\n",
       "Feature 3               0\n",
       "dtype: int64"
      ]
     },
     "execution_count": 8,
     "metadata": {},
     "output_type": "execute_result"
    }
   ],
   "source": [
    "# check for missing\n",
    "df.isnull().sum()"
   ]
  },
  {
   "cell_type": "code",
   "execution_count": 9,
   "id": "0a9a440f",
   "metadata": {},
   "outputs": [
    {
     "data": {
      "text/plain": [
       "array([ 0.,  1., nan])"
      ]
     },
     "execution_count": 9,
     "metadata": {},
     "output_type": "execute_result"
    }
   ],
   "source": [
    "df['Feature 2'].unique()"
   ]
  },
  {
   "cell_type": "code",
   "execution_count": 10,
   "id": "5981ebcd",
   "metadata": {},
   "outputs": [],
   "source": [
    "# replacing nulls with median\n",
    "df['Feature 2'] = df['Feature 2'].fillna(df['Feature 2'].median())"
   ]
  },
  {
   "cell_type": "code",
   "execution_count": 11,
   "id": "61625692",
   "metadata": {},
   "outputs": [
    {
     "name": "stdout",
     "output_type": "stream",
     "text": [
      "Series([], Name: Feature 2, dtype: float64)\n"
     ]
    }
   ],
   "source": [
    "pd.set_option('display.max_rows', None)\n",
    "print(df['Feature 2'][df['Feature 2'].isnull()])"
   ]
  },
  {
   "cell_type": "code",
   "execution_count": 12,
   "id": "bc96e82f",
   "metadata": {},
   "outputs": [
    {
     "name": "stdout",
     "output_type": "stream",
     "text": [
      "0.0    36518\n",
      "1.0    28894\n",
      "Name: Feature 1, dtype: int64\n"
     ]
    },
    {
     "data": {
      "image/png": "[encoded data removed]",
      "text/plain": [
       "<Figure size 432x288 with 1 Axes>"
      ]
     },
     "metadata": {
      "needs_background": "light"
     },
     "output_type": "display_data"
    }
   ],
   "source": [
    "# Value counts in ['Feature 1 ''] column\n",
    "color_wheel = {1: '#0392cf', 2: '#7bc043'}\n",
    "colors = df['Feature 1'].map(lambda x: color_wheel.get(x + 1))\n",
    "print(df['Feature 1'].value_counts())\n",
    "p=df['Feature 1'].value_counts().plot(kind='bar')"
   ]
  },
  {
   "cell_type": "code",
   "execution_count": 13,
   "id": "f63e7493",
   "metadata": {},
   "outputs": [
    {
     "name": "stdout",
     "output_type": "stream",
     "text": [
      "0.0    50908\n",
      "1.0    14504\n",
      "Name: Feature 2, dtype: int64\n"
     ]
    },
    {
     "data": {
      "image/png": "[encoded data removed]",
      "text/plain": [
       "<Figure size 432x288 with 1 Axes>"
      ]
     },
     "metadata": {
      "needs_background": "light"
     },
     "output_type": "display_data"
    }
   ],
   "source": [
    "# Value counts in [‘Feature 2’] column\n",
    "color_wheel = {1: '#0392cf', 2: '#7bc043'}\n",
    "colors = df['Feature 2'].map(lambda x: color_wheel.get(x + 1))\n",
    "print(df['Feature 2'].value_counts())\n",
    "p=df['Feature 2'].value_counts().plot(kind='bar')"
   ]
  },
  {
   "cell_type": "code",
   "execution_count": 14,
   "id": "109ae01c",
   "metadata": {},
   "outputs": [
    {
     "data": {
      "image/png": "[encoded data removed]",
      "text/plain": [
       "<Figure size 432x288 with 1 Axes>"
      ]
     },
     "metadata": {},
     "output_type": "display_data"
    }
   ],
   "source": [
    "# check revenue distribution by Feature 1\n",
    "df1 = df.groupby(['Feature 1']).agg(Revenue = ('Revenue', 'sum'))\n",
    "df1['Revenue']=df1['Revenue'].astype(int)\n",
    "plot = df1['Revenue'].plot.pie(autopct='%1.1f%%')"
   ]
  },
  {
   "cell_type": "markdown",
   "id": "d6b4c3fc",
   "metadata": {},
   "source": [
    "99.5% of revenue is generated by records tagged as 0"
   ]
  },
  {
   "cell_type": "code",
   "execution_count": 15,
   "id": "e023f07e",
   "metadata": {},
   "outputs": [
    {
     "data": {
      "image/png": "[encoded data removed]",
      "text/plain": [
       "<Figure size 432x288 with 1 Axes>"
      ]
     },
     "metadata": {},
     "output_type": "display_data"
    }
   ],
   "source": [
    "# check revenue distribution by Feature 2\n",
    "df2 = df.groupby(['Feature 2']).agg(Revenue = ('Revenue', 'sum'))\n",
    "df2['Revenue']=df2['Revenue'].astype(int)\n",
    "plot2 = df2['Revenue'].plot.pie(autopct='%1.1f%%')"
   ]
  },
  {
   "cell_type": "markdown",
   "id": "c4515c30",
   "metadata": {},
   "source": [
    "99.3% of revenue is generated by records tagged as 1"
   ]
  },
  {
   "cell_type": "code",
   "execution_count": 16,
   "id": "67b8ea88",
   "metadata": {},
   "outputs": [
    {
     "data": {
      "text/html": [
       "<div>\n",
       "<style scoped>\n",
       "    .dataframe tbody tr th:only-of-type {\n",
       "        vertical-align: middle;\n",
       "    }\n",
       "\n",
       "    .dataframe tbody tr th {\n",
       "        vertical-align: top;\n",
       "    }\n",
       "\n",
       "    .dataframe thead th {\n",
       "        text-align: right;\n",
       "    }\n",
       "</style>\n",
       "<table border=\"1\" class=\"dataframe\">\n",
       "  <thead>\n",
       "    <tr style=\"text-align: right;\">\n",
       "      <th></th>\n",
       "      <th>ID</th>\n",
       "      <th>Revenue</th>\n",
       "      <th>Feature 1</th>\n",
       "      <th>Feature 2</th>\n",
       "      <th>Feature 3</th>\n",
       "    </tr>\n",
       "  </thead>\n",
       "  <tbody>\n",
       "    <tr>\n",
       "      <th>count</th>\n",
       "      <td>65412.00</td>\n",
       "      <td>65412.00</td>\n",
       "      <td>65412.00</td>\n",
       "      <td>65412.00</td>\n",
       "      <td>65412.00</td>\n",
       "    </tr>\n",
       "    <tr>\n",
       "      <th>mean</th>\n",
       "      <td>34892.80</td>\n",
       "      <td>15462.02</td>\n",
       "      <td>0.44</td>\n",
       "      <td>0.22</td>\n",
       "      <td>0.50</td>\n",
       "    </tr>\n",
       "    <tr>\n",
       "      <th>std</th>\n",
       "      <td>18757.09</td>\n",
       "      <td>3918424.49</td>\n",
       "      <td>0.50</td>\n",
       "      <td>0.42</td>\n",
       "      <td>0.29</td>\n",
       "    </tr>\n",
       "    <tr>\n",
       "      <th>min</th>\n",
       "      <td>2457.00</td>\n",
       "      <td>23.71</td>\n",
       "      <td>0.00</td>\n",
       "      <td>0.00</td>\n",
       "      <td>0.00</td>\n",
       "    </tr>\n",
       "    <tr>\n",
       "      <th>25%</th>\n",
       "      <td>18647.75</td>\n",
       "      <td>91.97</td>\n",
       "      <td>0.00</td>\n",
       "      <td>0.00</td>\n",
       "      <td>0.25</td>\n",
       "    </tr>\n",
       "    <tr>\n",
       "      <th>50%</th>\n",
       "      <td>34860.50</td>\n",
       "      <td>125.40</td>\n",
       "      <td>0.00</td>\n",
       "      <td>0.00</td>\n",
       "      <td>0.50</td>\n",
       "    </tr>\n",
       "    <tr>\n",
       "      <th>75%</th>\n",
       "      <td>51121.25</td>\n",
       "      <td>190.24</td>\n",
       "      <td>1.00</td>\n",
       "      <td>0.00</td>\n",
       "      <td>0.75</td>\n",
       "    </tr>\n",
       "    <tr>\n",
       "      <th>max</th>\n",
       "      <td>67583.00</td>\n",
       "      <td>1002167367.00</td>\n",
       "      <td>1.00</td>\n",
       "      <td>1.00</td>\n",
       "      <td>1.00</td>\n",
       "    </tr>\n",
       "  </tbody>\n",
       "</table>\n",
       "</div>"
      ],
      "text/plain": [
       "            ID       Revenue  Feature 1  Feature 2  Feature 3\n",
       "count 65412.00      65412.00   65412.00   65412.00   65412.00\n",
       "mean  34892.80      15462.02       0.44       0.22       0.50\n",
       "std   18757.09    3918424.49       0.50       0.42       0.29\n",
       "min    2457.00         23.71       0.00       0.00       0.00\n",
       "25%   18647.75         91.97       0.00       0.00       0.25\n",
       "50%   34860.50        125.40       0.00       0.00       0.50\n",
       "75%   51121.25        190.24       1.00       0.00       0.75\n",
       "max   67583.00 1002167367.00       1.00       1.00       1.00"
      ]
     },
     "execution_count": 16,
     "metadata": {},
     "output_type": "execute_result"
    }
   ],
   "source": [
    "pd.options.display.float_format = '{:.2f}'.format\n",
    "df.describe()"
   ]
  },
  {
   "cell_type": "markdown",
   "id": "b54504f9",
   "metadata": {},
   "source": [
    "Revenue has a major outlier of $1T"
   ]
  },
  {
   "cell_type": "code",
   "execution_count": 17,
   "id": "f2b48e58",
   "metadata": {},
   "outputs": [
    {
     "data": {
      "text/html": [
       "<div>\n",
       "<style scoped>\n",
       "    .dataframe tbody tr th:only-of-type {\n",
       "        vertical-align: middle;\n",
       "    }\n",
       "\n",
       "    .dataframe tbody tr th {\n",
       "        vertical-align: top;\n",
       "    }\n",
       "\n",
       "    .dataframe thead th {\n",
       "        text-align: right;\n",
       "    }\n",
       "</style>\n",
       "<table border=\"1\" class=\"dataframe\">\n",
       "  <thead>\n",
       "    <tr style=\"text-align: right;\">\n",
       "      <th></th>\n",
       "      <th>ID</th>\n",
       "      <th>Policy Start Date</th>\n",
       "      <th>Policy End Date</th>\n",
       "      <th>Revenue</th>\n",
       "      <th>Feature 1</th>\n",
       "      <th>Feature 2</th>\n",
       "      <th>Feature 3</th>\n",
       "    </tr>\n",
       "  </thead>\n",
       "  <tbody>\n",
       "    <tr>\n",
       "      <th>65411</th>\n",
       "      <td>67583</td>\n",
       "      <td>2021-08-01</td>\n",
       "      <td>2021-11-01</td>\n",
       "      <td>1002167367.00</td>\n",
       "      <td>0.00</td>\n",
       "      <td>1.00</td>\n",
       "      <td>0.43</td>\n",
       "    </tr>\n",
       "  </tbody>\n",
       "</table>\n",
       "</div>"
      ],
      "text/plain": [
       "          ID Policy Start Date Policy End Date       Revenue  Feature 1  \\\n",
       "65411  67583        2021-08-01      2021-11-01 1002167367.00       0.00   \n",
       "\n",
       "       Feature 2  Feature 3  \n",
       "65411       1.00       0.43  "
      ]
     },
     "execution_count": 17,
     "metadata": {},
     "output_type": "execute_result"
    }
   ],
   "source": [
    "# identiftying index for outlier in Revenue feature\n",
    "df[df['Revenue']==1002167367.00]"
   ]
  },
  {
   "cell_type": "code",
   "execution_count": 18,
   "id": "e900526a",
   "metadata": {},
   "outputs": [],
   "source": [
    "# dropped record that was an outlier\n",
    "df.drop([65411], axis=0, inplace=True)"
   ]
  },
  {
   "cell_type": "code",
   "execution_count": 19,
   "id": "35b362ef",
   "metadata": {},
   "outputs": [
    {
     "data": {
      "text/html": [
       "<div>\n",
       "<style scoped>\n",
       "    .dataframe tbody tr th:only-of-type {\n",
       "        vertical-align: middle;\n",
       "    }\n",
       "\n",
       "    .dataframe tbody tr th {\n",
       "        vertical-align: top;\n",
       "    }\n",
       "\n",
       "    .dataframe thead th {\n",
       "        text-align: right;\n",
       "    }\n",
       "</style>\n",
       "<table border=\"1\" class=\"dataframe\">\n",
       "  <thead>\n",
       "    <tr style=\"text-align: right;\">\n",
       "      <th></th>\n",
       "      <th>ID</th>\n",
       "      <th>Revenue</th>\n",
       "      <th>Feature 1</th>\n",
       "      <th>Feature 2</th>\n",
       "      <th>Feature 3</th>\n",
       "    </tr>\n",
       "  </thead>\n",
       "  <tbody>\n",
       "    <tr>\n",
       "      <th>count</th>\n",
       "      <td>65411.00</td>\n",
       "      <td>65411.00</td>\n",
       "      <td>65411.00</td>\n",
       "      <td>65411.00</td>\n",
       "      <td>65411.00</td>\n",
       "    </tr>\n",
       "    <tr>\n",
       "      <th>mean</th>\n",
       "      <td>34892.30</td>\n",
       "      <td>141.17</td>\n",
       "      <td>0.44</td>\n",
       "      <td>0.22</td>\n",
       "      <td>0.50</td>\n",
       "    </tr>\n",
       "    <tr>\n",
       "      <th>std</th>\n",
       "      <td>18756.80</td>\n",
       "      <td>75.23</td>\n",
       "      <td>0.50</td>\n",
       "      <td>0.42</td>\n",
       "      <td>0.29</td>\n",
       "    </tr>\n",
       "    <tr>\n",
       "      <th>min</th>\n",
       "      <td>2457.00</td>\n",
       "      <td>23.71</td>\n",
       "      <td>0.00</td>\n",
       "      <td>0.00</td>\n",
       "      <td>0.00</td>\n",
       "    </tr>\n",
       "    <tr>\n",
       "      <th>25%</th>\n",
       "      <td>18647.50</td>\n",
       "      <td>91.97</td>\n",
       "      <td>0.00</td>\n",
       "      <td>0.00</td>\n",
       "      <td>0.25</td>\n",
       "    </tr>\n",
       "    <tr>\n",
       "      <th>50%</th>\n",
       "      <td>34860.00</td>\n",
       "      <td>125.40</td>\n",
       "      <td>0.00</td>\n",
       "      <td>0.00</td>\n",
       "      <td>0.50</td>\n",
       "    </tr>\n",
       "    <tr>\n",
       "      <th>75%</th>\n",
       "      <td>51120.50</td>\n",
       "      <td>190.24</td>\n",
       "      <td>1.00</td>\n",
       "      <td>0.00</td>\n",
       "      <td>0.75</td>\n",
       "    </tr>\n",
       "    <tr>\n",
       "      <th>max</th>\n",
       "      <td>67450.00</td>\n",
       "      <td>363.56</td>\n",
       "      <td>1.00</td>\n",
       "      <td>1.00</td>\n",
       "      <td>1.00</td>\n",
       "    </tr>\n",
       "  </tbody>\n",
       "</table>\n",
       "</div>"
      ],
      "text/plain": [
       "            ID  Revenue  Feature 1  Feature 2  Feature 3\n",
       "count 65411.00 65411.00   65411.00   65411.00   65411.00\n",
       "mean  34892.30   141.17       0.44       0.22       0.50\n",
       "std   18756.80    75.23       0.50       0.42       0.29\n",
       "min    2457.00    23.71       0.00       0.00       0.00\n",
       "25%   18647.50    91.97       0.00       0.00       0.25\n",
       "50%   34860.00   125.40       0.00       0.00       0.50\n",
       "75%   51120.50   190.24       1.00       0.00       0.75\n",
       "max   67450.00   363.56       1.00       1.00       1.00"
      ]
     },
     "execution_count": 19,
     "metadata": {},
     "output_type": "execute_result"
    }
   ],
   "source": [
    "df.describe()"
   ]
  },
  {
   "cell_type": "markdown",
   "id": "3a179820",
   "metadata": {},
   "source": [
    "# Questions:"
   ]
  },
  {
   "cell_type": "markdown",
   "id": "37140e68",
   "metadata": {},
   "source": [
    "## 1. a) Calculate Revenue: All 2021 policies (2021 Policy Start Date regardless of their end date)"
   ]
  },
  {
   "cell_type": "code",
   "execution_count": 20,
   "id": "987a632b",
   "metadata": {},
   "outputs": [
    {
     "name": "stdout",
     "output_type": "stream",
     "text": [
      "All 2021 policies total revenue: $3,354,956.91\n"
     ]
    }
   ],
   "source": [
    "df['start_year'] = df['Policy Start Date'].dt.year \n",
    "# added year feature variable because policy start date would start at end of year when agg\n",
    "#df.head()\n",
    "Revenue_2021 = df[df['start_year']==2021]['Revenue'].sum()\n",
    "result = f'${Revenue_2021:,.2f}' # formatting to currency\n",
    "print('All 2021 policies total revenue:', result)"
   ]
  },
  {
   "cell_type": "markdown",
   "id": "c22e6df8",
   "metadata": {},
   "source": [
    "## 1. b) Calculate Revenue: 2021 policies by Policy Start Date"
   ]
  },
  {
   "cell_type": "code",
   "execution_count": 21,
   "id": "63594544",
   "metadata": {},
   "outputs": [
    {
     "name": "stdout",
     "output_type": "stream",
     "text": [
      "Policy Start Date\n",
      "2021-01-01    220631.42\n",
      "2021-02-01    204905.39\n",
      "2021-03-01    210473.60\n",
      "2021-04-01    206700.90\n",
      "2021-05-01     51406.66\n",
      "2021-06-01     28644.42\n",
      "2021-07-01   1618059.83\n",
      "2021-08-01    225666.50\n",
      "2021-09-01    213136.31\n",
      "2021-10-01    214370.33\n",
      "2021-11-01    160961.55\n",
      "Name: Revenue, dtype: float64\n"
     ]
    }
   ],
   "source": [
    "#pd.options.display.float_format = '${:,.2f}'.format\n",
    "df1 = df[df['start_year']==2021]\n",
    "DailyRev_2021 = df1.groupby('Policy Start Date')['Revenue'].sum()\n",
    "print(DailyRev_2021)"
   ]
  },
  {
   "cell_type": "markdown",
   "id": "b6e685e1",
   "metadata": {},
   "source": [
    "## 2. Calculate the First Year Renewal % of all policies that have a start date of 2020-07-01"
   ]
  },
  {
   "cell_type": "code",
   "execution_count": 22,
   "id": "2b9ba334",
   "metadata": {},
   "outputs": [
    {
     "name": "stdout",
     "output_type": "stream",
     "text": [
      "First year renwal of policies that have a start date 2020-07-01: 52.97%\n"
     ]
    }
   ],
   "source": [
    "total_policies = df[df['Policy Start Date']=='2020-7-1'].value_counts().sum()\n",
    "total_renewals = df[(df['Policy Start Date']=='2020-7-1')]\n",
    "total_renewals = total_renewals[(total_renewals['Policy End Date']>='2021-7-1')].value_counts().sum()\n",
    "policy_renewal = total_renewals/total_policies*100\n",
    "result = f'{policy_renewal:,.2f}%' # formatting to percentage\n",
    "print('First year renwal of policies that have a start date 2020-07-01:', result)"
   ]
  },
  {
   "cell_type": "markdown",
   "id": "31dcdb57",
   "metadata": {},
   "source": [
    "## 3. Describe in words what type of model would be appropriate to predict first year renewal? Explain the reason behind the model choice."
   ]
  },
  {
   "cell_type": "markdown",
   "id": "fb213456",
   "metadata": {},
   "source": [
    "A regression model would work here. From the data the start date and end date of a policy is provided. From there you'd be able to get a number of days the policy has been active. This feature would be a continuous variable and stationary which allows works for a regression model."
   ]
  },
  {
   "cell_type": "markdown",
   "id": "b3142a49",
   "metadata": {},
   "source": [
    "## 4. Assume that all policies with Policy End Date as November 2021 are active and the payments after November 2021 are unobserved. What type of statistical or machine learning modeling technique(s) would you use to build a predictive model of customer retention?"
   ]
  },
  {
   "cell_type": "markdown",
   "id": "7b4a66fb",
   "metadata": {},
   "source": [
    "This is classification problem and any sort of classification model would work. For example, logistic regression, SVM, a decision tree, or a random forest."
   ]
  },
  {
   "cell_type": "markdown",
   "id": "511e73d2",
   "metadata": {},
   "source": [
    "## 5. Assume that all policies with Policy End Date as November 2021 are active and the payments after November 2021 are unobserved. Predict the policy end date for all active policies."
   ]
  },
  {
   "cell_type": "markdown",
   "id": "4636ac07",
   "metadata": {},
   "source": [
    "I'll subset the dataset to include only policies ending in November 2021. To create the target feature, I will take the difference between the policy start and end dates to get the length in days. This will end up becoming the target feature.\n",
    "\n",
    "Another feature added to the dataset is an active policy dummy. Records that are less than 365 in the ActivePolicyDays feature are 0, while records that are greater than 365 are 1."
   ]
  },
  {
   "cell_type": "markdown",
   "id": "c1ce4cc9",
   "metadata": {},
   "source": [
    "### EDA/Pre-processing"
   ]
  },
  {
   "cell_type": "code",
   "execution_count": 23,
   "id": "7c27b511",
   "metadata": {},
   "outputs": [],
   "source": [
    "# creating a new dataset for policies ending nov 2021\n",
    "df = df[df['Policy End Date']=='2021-11-01']"
   ]
  },
  {
   "cell_type": "code",
   "execution_count": 24,
   "id": "182a44d6",
   "metadata": {},
   "outputs": [],
   "source": [
    "# creating active policy days feature that is the difference between the policy end and start date\n",
    "# this will end up becoming the target feature\n",
    "df['ActivePolicyDays'] = (df['Policy End Date'] - df['Policy Start Date']).dt.days"
   ]
  },
  {
   "cell_type": "code",
   "execution_count": 25,
   "id": "6f24a6e8",
   "metadata": {},
   "outputs": [],
   "source": [
    "# creating active policy days dummy; records that are <365 are 0; 365+ are 1 \n",
    "df['APD_dummy'] = np.where(df['ActivePolicyDays']>= 365, 1, 0)"
   ]
  },
  {
   "cell_type": "code",
   "execution_count": 26,
   "id": "d80f4aeb",
   "metadata": {},
   "outputs": [
    {
     "data": {
      "text/html": [
       "<div>\n",
       "<style scoped>\n",
       "    .dataframe tbody tr th:only-of-type {\n",
       "        vertical-align: middle;\n",
       "    }\n",
       "\n",
       "    .dataframe tbody tr th {\n",
       "        vertical-align: top;\n",
       "    }\n",
       "\n",
       "    .dataframe thead th {\n",
       "        text-align: right;\n",
       "    }\n",
       "</style>\n",
       "<table border=\"1\" class=\"dataframe\">\n",
       "  <thead>\n",
       "    <tr style=\"text-align: right;\">\n",
       "      <th></th>\n",
       "      <th>ID</th>\n",
       "      <th>Revenue</th>\n",
       "      <th>Feature 1</th>\n",
       "      <th>Feature 2</th>\n",
       "      <th>Feature 3</th>\n",
       "      <th>start_year</th>\n",
       "      <th>ActivePolicyDays</th>\n",
       "      <th>APD_dummy</th>\n",
       "    </tr>\n",
       "  </thead>\n",
       "  <tbody>\n",
       "    <tr>\n",
       "      <th>count</th>\n",
       "      <td>32995.00</td>\n",
       "      <td>32995.00</td>\n",
       "      <td>32995.00</td>\n",
       "      <td>32995.00</td>\n",
       "      <td>32995.00</td>\n",
       "      <td>32995.00</td>\n",
       "      <td>32995.00</td>\n",
       "      <td>32995.00</td>\n",
       "    </tr>\n",
       "    <tr>\n",
       "      <th>mean</th>\n",
       "      <td>34962.76</td>\n",
       "      <td>177.08</td>\n",
       "      <td>0.47</td>\n",
       "      <td>0.22</td>\n",
       "      <td>0.50</td>\n",
       "      <td>2020.48</td>\n",
       "      <td>308.08</td>\n",
       "      <td>0.38</td>\n",
       "    </tr>\n",
       "    <tr>\n",
       "      <th>std</th>\n",
       "      <td>18733.51</td>\n",
       "      <td>62.53</td>\n",
       "      <td>0.50</td>\n",
       "      <td>0.41</td>\n",
       "      <td>0.29</td>\n",
       "      <td>0.73</td>\n",
       "      <td>267.09</td>\n",
       "      <td>0.49</td>\n",
       "    </tr>\n",
       "    <tr>\n",
       "      <th>min</th>\n",
       "      <td>2458.00</td>\n",
       "      <td>24.63</td>\n",
       "      <td>0.00</td>\n",
       "      <td>0.00</td>\n",
       "      <td>0.00</td>\n",
       "      <td>2019.00</td>\n",
       "      <td>-10896.00</td>\n",
       "      <td>0.00</td>\n",
       "    </tr>\n",
       "    <tr>\n",
       "      <th>25%</th>\n",
       "      <td>18778.50</td>\n",
       "      <td>123.53</td>\n",
       "      <td>0.00</td>\n",
       "      <td>0.00</td>\n",
       "      <td>0.25</td>\n",
       "      <td>2020.00</td>\n",
       "      <td>123.00</td>\n",
       "      <td>0.00</td>\n",
       "    </tr>\n",
       "    <tr>\n",
       "      <th>50%</th>\n",
       "      <td>34866.00</td>\n",
       "      <td>164.94</td>\n",
       "      <td>0.00</td>\n",
       "      <td>0.00</td>\n",
       "      <td>0.50</td>\n",
       "      <td>2021.00</td>\n",
       "      <td>184.00</td>\n",
       "      <td>0.00</td>\n",
       "    </tr>\n",
       "    <tr>\n",
       "      <th>75%</th>\n",
       "      <td>51251.00</td>\n",
       "      <td>227.68</td>\n",
       "      <td>1.00</td>\n",
       "      <td>0.00</td>\n",
       "      <td>0.75</td>\n",
       "      <td>2021.00</td>\n",
       "      <td>488.00</td>\n",
       "      <td>1.00</td>\n",
       "    </tr>\n",
       "    <tr>\n",
       "      <th>max</th>\n",
       "      <td>67450.00</td>\n",
       "      <td>363.56</td>\n",
       "      <td>1.00</td>\n",
       "      <td>1.00</td>\n",
       "      <td>1.00</td>\n",
       "      <td>2051.00</td>\n",
       "      <td>854.00</td>\n",
       "      <td>1.00</td>\n",
       "    </tr>\n",
       "  </tbody>\n",
       "</table>\n",
       "</div>"
      ],
      "text/plain": [
       "            ID  Revenue  Feature 1  Feature 2  Feature 3  start_year  \\\n",
       "count 32995.00 32995.00   32995.00   32995.00   32995.00    32995.00   \n",
       "mean  34962.76   177.08       0.47       0.22       0.50     2020.48   \n",
       "std   18733.51    62.53       0.50       0.41       0.29        0.73   \n",
       "min    2458.00    24.63       0.00       0.00       0.00     2019.00   \n",
       "25%   18778.50   123.53       0.00       0.00       0.25     2020.00   \n",
       "50%   34866.00   164.94       0.00       0.00       0.50     2021.00   \n",
       "75%   51251.00   227.68       1.00       0.00       0.75     2021.00   \n",
       "max   67450.00   363.56       1.00       1.00       1.00     2051.00   \n",
       "\n",
       "       ActivePolicyDays  APD_dummy  \n",
       "count          32995.00   32995.00  \n",
       "mean             308.08       0.38  \n",
       "std              267.09       0.49  \n",
       "min           -10896.00       0.00  \n",
       "25%              123.00       0.00  \n",
       "50%              184.00       0.00  \n",
       "75%              488.00       1.00  \n",
       "max              854.00       1.00  "
      ]
     },
     "execution_count": 26,
     "metadata": {},
     "output_type": "execute_result"
    }
   ],
   "source": [
    "df.describe()"
   ]
  },
  {
   "cell_type": "markdown",
   "id": "caceb5bc",
   "metadata": {},
   "source": [
    "ActivePolicyDays (APD) has a minimum of -10896.00 days due to a policy having a start year of 2051. To treat this record, I'm going to remove it from the dataset."
   ]
  },
  {
   "cell_type": "code",
   "execution_count": 27,
   "id": "2d208359",
   "metadata": {},
   "outputs": [
    {
     "data": {
      "text/html": [
       "<div>\n",
       "<style scoped>\n",
       "    .dataframe tbody tr th:only-of-type {\n",
       "        vertical-align: middle;\n",
       "    }\n",
       "\n",
       "    .dataframe tbody tr th {\n",
       "        vertical-align: top;\n",
       "    }\n",
       "\n",
       "    .dataframe thead th {\n",
       "        text-align: right;\n",
       "    }\n",
       "</style>\n",
       "<table border=\"1\" class=\"dataframe\">\n",
       "  <thead>\n",
       "    <tr style=\"text-align: right;\">\n",
       "      <th></th>\n",
       "      <th>ID</th>\n",
       "      <th>Policy Start Date</th>\n",
       "      <th>Policy End Date</th>\n",
       "      <th>Revenue</th>\n",
       "      <th>Feature 1</th>\n",
       "      <th>Feature 2</th>\n",
       "      <th>Feature 3</th>\n",
       "      <th>start_year</th>\n",
       "      <th>ActivePolicyDays</th>\n",
       "      <th>APD_dummy</th>\n",
       "    </tr>\n",
       "  </thead>\n",
       "  <tbody>\n",
       "    <tr>\n",
       "      <th>65410</th>\n",
       "      <td>67450</td>\n",
       "      <td>2051-09-01</td>\n",
       "      <td>2021-11-01</td>\n",
       "      <td>121.00</td>\n",
       "      <td>1.00</td>\n",
       "      <td>1.00</td>\n",
       "      <td>0.43</td>\n",
       "      <td>2051</td>\n",
       "      <td>-10896</td>\n",
       "      <td>0</td>\n",
       "    </tr>\n",
       "  </tbody>\n",
       "</table>\n",
       "</div>"
      ],
      "text/plain": [
       "          ID Policy Start Date Policy End Date  Revenue  Feature 1  Feature 2  \\\n",
       "65410  67450        2051-09-01      2021-11-01   121.00       1.00       1.00   \n",
       "\n",
       "       Feature 3  start_year  ActivePolicyDays  APD_dummy  \n",
       "65410       0.43        2051            -10896          0  "
      ]
     },
     "execution_count": 27,
     "metadata": {},
     "output_type": "execute_result"
    }
   ],
   "source": [
    "# major outlier in active days, theres a policy start date from 2051\n",
    "# identifying index\n",
    "df[df['ActivePolicyDays'] < 0]"
   ]
  },
  {
   "cell_type": "code",
   "execution_count": 28,
   "id": "ca1e235f",
   "metadata": {},
   "outputs": [],
   "source": [
    "# dropped record that was an outlier\n",
    "df.drop([65410], axis=0, inplace=True)"
   ]
  },
  {
   "cell_type": "code",
   "execution_count": 29,
   "id": "205008d3",
   "metadata": {},
   "outputs": [
    {
     "data": {
      "text/plain": [
       "<AxesSubplot:>"
      ]
     },
     "execution_count": 29,
     "metadata": {},
     "output_type": "execute_result"
    },
    {
     "data": {
      "image/png": "[encoded data removed]",
      "text/plain": [
       "<Figure size 720x360 with 2 Axes>"
      ]
     },
     "metadata": {
      "needs_background": "light"
     },
     "output_type": "display_data"
    }
   ],
   "source": [
    "fig, ax = plt.subplots(1, 2, figsize=(10, 5))\n",
    "df.boxplot(column=['Revenue', 'ActivePolicyDays'], ax=ax[0])\n",
    "df.boxplot(column='Feature 3', ax=ax[1])"
   ]
  },
  {
   "cell_type": "code",
   "execution_count": 30,
   "id": "a29882c9",
   "metadata": {},
   "outputs": [
    {
     "data": {
      "text/html": [
       "<div>\n",
       "<style scoped>\n",
       "    .dataframe tbody tr th:only-of-type {\n",
       "        vertical-align: middle;\n",
       "    }\n",
       "\n",
       "    .dataframe tbody tr th {\n",
       "        vertical-align: top;\n",
       "    }\n",
       "\n",
       "    .dataframe thead th {\n",
       "        text-align: right;\n",
       "    }\n",
       "</style>\n",
       "<table border=\"1\" class=\"dataframe\">\n",
       "  <thead>\n",
       "    <tr style=\"text-align: right;\">\n",
       "      <th></th>\n",
       "      <th>ID</th>\n",
       "      <th>Revenue</th>\n",
       "      <th>Feature 1</th>\n",
       "      <th>Feature 2</th>\n",
       "      <th>Feature 3</th>\n",
       "      <th>start_year</th>\n",
       "      <th>ActivePolicyDays</th>\n",
       "      <th>APD_dummy</th>\n",
       "    </tr>\n",
       "  </thead>\n",
       "  <tbody>\n",
       "    <tr>\n",
       "      <th>count</th>\n",
       "      <td>32994.00</td>\n",
       "      <td>32994.00</td>\n",
       "      <td>32994.00</td>\n",
       "      <td>32994.00</td>\n",
       "      <td>32994.00</td>\n",
       "      <td>32994.00</td>\n",
       "      <td>32994.00</td>\n",
       "      <td>32994.00</td>\n",
       "    </tr>\n",
       "    <tr>\n",
       "      <th>mean</th>\n",
       "      <td>34961.77</td>\n",
       "      <td>177.09</td>\n",
       "      <td>0.47</td>\n",
       "      <td>0.22</td>\n",
       "      <td>0.50</td>\n",
       "      <td>2020.47</td>\n",
       "      <td>308.41</td>\n",
       "      <td>0.38</td>\n",
       "    </tr>\n",
       "    <tr>\n",
       "      <th>std</th>\n",
       "      <td>18732.94</td>\n",
       "      <td>62.53</td>\n",
       "      <td>0.50</td>\n",
       "      <td>0.41</td>\n",
       "      <td>0.29</td>\n",
       "      <td>0.71</td>\n",
       "      <td>259.87</td>\n",
       "      <td>0.49</td>\n",
       "    </tr>\n",
       "    <tr>\n",
       "      <th>min</th>\n",
       "      <td>2458.00</td>\n",
       "      <td>24.63</td>\n",
       "      <td>0.00</td>\n",
       "      <td>0.00</td>\n",
       "      <td>0.00</td>\n",
       "      <td>2019.00</td>\n",
       "      <td>0.00</td>\n",
       "      <td>0.00</td>\n",
       "    </tr>\n",
       "    <tr>\n",
       "      <th>25%</th>\n",
       "      <td>18777.75</td>\n",
       "      <td>123.53</td>\n",
       "      <td>0.00</td>\n",
       "      <td>0.00</td>\n",
       "      <td>0.25</td>\n",
       "      <td>2020.00</td>\n",
       "      <td>123.00</td>\n",
       "      <td>0.00</td>\n",
       "    </tr>\n",
       "    <tr>\n",
       "      <th>50%</th>\n",
       "      <td>34865.00</td>\n",
       "      <td>164.94</td>\n",
       "      <td>0.00</td>\n",
       "      <td>0.00</td>\n",
       "      <td>0.50</td>\n",
       "      <td>2021.00</td>\n",
       "      <td>184.00</td>\n",
       "      <td>0.00</td>\n",
       "    </tr>\n",
       "    <tr>\n",
       "      <th>75%</th>\n",
       "      <td>51247.75</td>\n",
       "      <td>227.68</td>\n",
       "      <td>1.00</td>\n",
       "      <td>0.00</td>\n",
       "      <td>0.75</td>\n",
       "      <td>2021.00</td>\n",
       "      <td>488.00</td>\n",
       "      <td>1.00</td>\n",
       "    </tr>\n",
       "    <tr>\n",
       "      <th>max</th>\n",
       "      <td>67449.00</td>\n",
       "      <td>363.56</td>\n",
       "      <td>1.00</td>\n",
       "      <td>1.00</td>\n",
       "      <td>1.00</td>\n",
       "      <td>2021.00</td>\n",
       "      <td>854.00</td>\n",
       "      <td>1.00</td>\n",
       "    </tr>\n",
       "  </tbody>\n",
       "</table>\n",
       "</div>"
      ],
      "text/plain": [
       "            ID  Revenue  Feature 1  Feature 2  Feature 3  start_year  \\\n",
       "count 32994.00 32994.00   32994.00   32994.00   32994.00    32994.00   \n",
       "mean  34961.77   177.09       0.47       0.22       0.50     2020.47   \n",
       "std   18732.94    62.53       0.50       0.41       0.29        0.71   \n",
       "min    2458.00    24.63       0.00       0.00       0.00     2019.00   \n",
       "25%   18777.75   123.53       0.00       0.00       0.25     2020.00   \n",
       "50%   34865.00   164.94       0.00       0.00       0.50     2021.00   \n",
       "75%   51247.75   227.68       1.00       0.00       0.75     2021.00   \n",
       "max   67449.00   363.56       1.00       1.00       1.00     2021.00   \n",
       "\n",
       "       ActivePolicyDays  APD_dummy  \n",
       "count          32994.00   32994.00  \n",
       "mean             308.41       0.38  \n",
       "std              259.87       0.49  \n",
       "min                0.00       0.00  \n",
       "25%              123.00       0.00  \n",
       "50%              184.00       0.00  \n",
       "75%              488.00       1.00  \n",
       "max              854.00       1.00  "
      ]
     },
     "execution_count": 30,
     "metadata": {},
     "output_type": "execute_result"
    }
   ],
   "source": [
    "df.describe()"
   ]
  },
  {
   "cell_type": "markdown",
   "id": "72e24186",
   "metadata": {},
   "source": [
    "Now that the outlier is dropped, Revenue and Feature 3 look normally distributed while APD is skewed to the right. \n",
    "The APD might be overestimated, possibly there are more policies that have a shorter term as opposed to a longer term. \n",
    "This can be substantiated by the descriptive table above where the mean of APD is less than a year which might imply there are more short-term policies in the dataset. Also, the minimum start year is 2019 which is only 2 year spread from the max year in the dataset."
   ]
  },
  {
   "cell_type": "code",
   "execution_count": 31,
   "id": "5c557a82",
   "metadata": {},
   "outputs": [
    {
     "data": {
      "text/plain": [
       "Text(0.5, 1.0, 'Scatter')"
      ]
     },
     "execution_count": 31,
     "metadata": {},
     "output_type": "execute_result"
    },
    {
     "data": {
      "image/png": "[encoded data removed]",
      "text/plain": [
       "<Figure size 360x360 with 1 Axes>"
      ]
     },
     "metadata": {
      "needs_background": "light"
     },
     "output_type": "display_data"
    }
   ],
   "source": [
    "sns.lmplot(x='Revenue', y='ActivePolicyDays', data=df )\n",
    "plt.title('Scatter')"
   ]
  },
  {
   "cell_type": "markdown",
   "id": "ec8ead53",
   "metadata": {},
   "source": [
    "The relationship between Revenue and APD is clear, a positive linear relationship. If there is an increase in APD then there will be an increase in Revenue."
   ]
  },
  {
   "cell_type": "code",
   "execution_count": 32,
   "id": "834035fa",
   "metadata": {
    "scrolled": false
   },
   "outputs": [
    {
     "data": {
      "text/plain": [
       "<AxesSubplot:xlabel='Revenue', ylabel='Count'>"
      ]
     },
     "execution_count": 32,
     "metadata": {},
     "output_type": "execute_result"
    },
    {
     "data": {
      "image/png": "[encoded data removed]",
      "text/plain": [
       "<Figure size 1080x720 with 1 Axes>"
      ]
     },
     "metadata": {
      "needs_background": "light"
     },
     "output_type": "display_data"
    }
   ],
   "source": [
    "plt.figure(figsize=(15,10))\n",
    "plt.tight_layout()\n",
    "sns.histplot(df['Revenue'])"
   ]
  },
  {
   "cell_type": "markdown",
   "id": "4b48ee1d",
   "metadata": {},
   "source": [
    "Looking at the distribution of Revenue, there are large peaks of policies that generate a revenue at bins 135, 185, 225, and 315."
   ]
  },
  {
   "cell_type": "markdown",
   "id": "1e53db7a",
   "metadata": {},
   "source": [
    "### Splitting the dataset\n",
    "A training and test set is created. 70% (23k records) of the data is kept as training  while the remaining 30% (10k records) serves as the testing set. I kept the shuffling controlled for reproducibility."
   ]
  },
  {
   "cell_type": "code",
   "execution_count": 33,
   "id": "f8affbe7",
   "metadata": {},
   "outputs": [
    {
     "name": "stdout",
     "output_type": "stream",
     "text": [
      "(23095, 5) (9899, 5)\n",
      "(23095,) (9899,)\n"
     ]
    }
   ],
   "source": [
    "y = df['ActivePolicyDays']\n",
    "features = ['Revenue',\n",
    "'Feature 3',\n",
    "'Feature 1',\n",
    "'Feature 2',\n",
    "'APD_dummy']\n",
    "X = df[features]\n",
    "X_train, X_test, y_train, y_test = train_test_split(X, y, test_size=0.3, random_state=312)\n",
    "print(X_train.shape, X_test.shape)\n",
    "print(y_train.shape, y_test.shape)"
   ]
  },
  {
   "cell_type": "markdown",
   "id": "955bbe34",
   "metadata": {},
   "source": [
    "### Training the model\n",
    "The instance regression is initialized and X,y training set is fitted into a linear model.\n",
    "\n",
    "From the output below the linear model is as follows:\n",
    "\n",
    "ActivePolicyDays = -207.265+ (2.770 * Revenue) + (-4.764* Feature 3) + (-159.556 * Feature 1) + (19.413 * Feature 2) + + (256.087 * APD_dummy) + e\n",
    "\n",
    "The slope of the model is -207.265, which means if dummy Features 1 and 2 remain 0 then the APDs goes down by 207 days. If Features 1 and 2 is reported 1 then the APD decrease is only 159 days for Feature 1 while Feature 2 increases APDs by 19 days. A single APD increase, increases Revenue by $2.77. A single APD increase, decreases Feature 3 by 4.76. \n",
    "\n",
    "The APD dummy can be interpreted a bit differently. Since this feature was created to see if a policy ended within a year or more than a year. In this case if a policy ends within 365 days an APD would decrease 207 days, implying this could be a short-term policy. If the policy ends after 365 days the APDs can increase 256 days, implying that after the first year a policy may not complete a full second year."
   ]
  },
  {
   "cell_type": "code",
   "execution_count": 34,
   "id": "6d152fc4",
   "metadata": {
    "scrolled": false
   },
   "outputs": [
    {
     "name": "stdout",
     "output_type": "stream",
     "text": [
      "Intercept: -207.265\n",
      "Coefficients:\n",
      " Revenue: 2.7701329128154755\n",
      " Feature 3: -4.763909861709744\n",
      " Feature 1: -159.55609617209666\n",
      " Feature 2: 19.412758237167317\n",
      " APD_dummy: 256.08660540998784\n"
     ]
    },
    {
     "name": "stderr",
     "output_type": "stream",
     "text": [
      "/opt/anaconda3/lib/python3.9/site-packages/sklearn/linear_model/_base.py:141: FutureWarning: 'normalize' was deprecated in version 1.0 and will be removed in 1.2.\n",
      "If you wish to scale the data, use Pipeline with a StandardScaler in a preprocessing stage. To reproduce the previous behavior:\n",
      "\n",
      "from sklearn.pipeline import make_pipeline\n",
      "\n",
      "model = make_pipeline(StandardScaler(with_mean=False), LinearRegression())\n",
      "\n",
      "If you wish to pass a sample_weight parameter, you need to pass it as a fit parameter to each step of the pipeline as follows:\n",
      "\n",
      "kwargs = {s[0] + '__sample_weight': sample_weight for s in model.steps}\n",
      "model.fit(X, y, **kwargs)\n",
      "\n",
      "\n",
      "  warnings.warn(\n"
     ]
    }
   ],
   "source": [
    "regression = LinearRegression(normalize=True)\n",
    "regression.fit(X_train,y_train)\n",
    "#regression.fit(X_test,y_test)\n",
    "\n",
    "print(f'Intercept: {regression.intercept_:.3f}')\n",
    "\n",
    "print('Coefficients:')\n",
    "for name, coef in zip(features, regression.coef_):\n",
    "    print(f' {name}: {coef}')\n",
    "    \n",
    "y_pred = regression.predict(X_train)"
   ]
  },
  {
   "cell_type": "code",
   "execution_count": 35,
   "id": "6ed142eb",
   "metadata": {},
   "outputs": [
    {
     "name": "stdout",
     "output_type": "stream",
     "text": [
      "R squared: 90.11\n",
      "Mean Absolute Error: 61.454758209726386\n",
      "Mean Square Error: 6625.742913903035\n",
      "Root Mean Square Error: 81.39866653639379\n"
     ]
    }
   ],
   "source": [
    "meanAbErr = mean_absolute_error(y_train, y_pred)\n",
    "meanSqErr = mean_squared_error(y_train, y_pred)\n",
    "rootMeanSqErr = np.sqrt(mean_squared_error(y_train, y_pred))\n",
    "print('R squared: {:.2f}'.format(regression.score(X_train,y_train)*100))\n",
    "print('Mean Absolute Error:', meanAbErr)\n",
    "print('Mean Square Error:', meanSqErr)\n",
    "print('Root Mean Square Error:', rootMeanSqErr)\n"
   ]
  },
  {
   "cell_type": "code",
   "execution_count": 36,
   "id": "a1a47695",
   "metadata": {},
   "outputs": [
    {
     "data": {
      "text/html": [
       "<div>\n",
       "<style scoped>\n",
       "    .dataframe tbody tr th:only-of-type {\n",
       "        vertical-align: middle;\n",
       "    }\n",
       "\n",
       "    .dataframe tbody tr th {\n",
       "        vertical-align: top;\n",
       "    }\n",
       "\n",
       "    .dataframe thead th {\n",
       "        text-align: right;\n",
       "    }\n",
       "</style>\n",
       "<table border=\"1\" class=\"dataframe\">\n",
       "  <thead>\n",
       "    <tr style=\"text-align: right;\">\n",
       "      <th></th>\n",
       "      <th>Actual</th>\n",
       "      <th>Predicted</th>\n",
       "    </tr>\n",
       "  </thead>\n",
       "  <tbody>\n",
       "    <tr>\n",
       "      <th>19325</th>\n",
       "      <td>579</td>\n",
       "      <td>622.87</td>\n",
       "    </tr>\n",
       "    <tr>\n",
       "      <th>20583</th>\n",
       "      <td>0</td>\n",
       "      <td>51.42</td>\n",
       "    </tr>\n",
       "    <tr>\n",
       "      <th>54350</th>\n",
       "      <td>123</td>\n",
       "      <td>151.53</td>\n",
       "    </tr>\n",
       "    <tr>\n",
       "      <th>14710</th>\n",
       "      <td>273</td>\n",
       "      <td>263.06</td>\n",
       "    </tr>\n",
       "    <tr>\n",
       "      <th>15555</th>\n",
       "      <td>123</td>\n",
       "      <td>130.24</td>\n",
       "    </tr>\n",
       "  </tbody>\n",
       "</table>\n",
       "</div>"
      ],
      "text/plain": [
       "       Actual  Predicted\n",
       "19325     579     622.87\n",
       "20583       0      51.42\n",
       "54350     123     151.53\n",
       "14710     273     263.06\n",
       "15555     123     130.24"
      ]
     },
     "execution_count": 36,
     "metadata": {},
     "output_type": "execute_result"
    }
   ],
   "source": [
    "df_train = pd.DataFrame({'Actual': y_train, 'Predicted': y_pred})\n",
    "df_train.head()"
   ]
  },
  {
   "cell_type": "markdown",
   "id": "f34c56c3",
   "metadata": {},
   "source": [
    "### Prediction on the test set/Model Evaluation\n",
    "The r-square indicates that 90.36% of the data fit on the regression line and is only slightly better than the training model. The model's accuracy estimates, the mean absolute error, for the training and test model is roughly the same at 61. On average the forecast's distance from the true value is 61 which isn't such a high error. The average squared error for the prediction is 6,629 which can be used as a baseline to see if model accuracy improves over time or not. Overall, given the size of the test set of almost 10k records the evaluation metrics show a pretty strong model."
   ]
  },
  {
   "cell_type": "code",
   "execution_count": 37,
   "id": "ca441dfc",
   "metadata": {},
   "outputs": [],
   "source": [
    "y_pred = regression.predict(X_test)"
   ]
  },
  {
   "cell_type": "code",
   "execution_count": 38,
   "id": "31fa7ff4",
   "metadata": {},
   "outputs": [
    {
     "data": {
      "text/html": [
       "<div>\n",
       "<style scoped>\n",
       "    .dataframe tbody tr th:only-of-type {\n",
       "        vertical-align: middle;\n",
       "    }\n",
       "\n",
       "    .dataframe tbody tr th {\n",
       "        vertical-align: top;\n",
       "    }\n",
       "\n",
       "    .dataframe thead th {\n",
       "        text-align: right;\n",
       "    }\n",
       "</style>\n",
       "<table border=\"1\" class=\"dataframe\">\n",
       "  <thead>\n",
       "    <tr style=\"text-align: right;\">\n",
       "      <th></th>\n",
       "      <th>Actual</th>\n",
       "      <th>Predicted</th>\n",
       "    </tr>\n",
       "  </thead>\n",
       "  <tbody>\n",
       "    <tr>\n",
       "      <th>3822</th>\n",
       "      <td>61</td>\n",
       "      <td>99.44</td>\n",
       "    </tr>\n",
       "    <tr>\n",
       "      <th>9009</th>\n",
       "      <td>123</td>\n",
       "      <td>133.59</td>\n",
       "    </tr>\n",
       "    <tr>\n",
       "      <th>29801</th>\n",
       "      <td>123</td>\n",
       "      <td>152.76</td>\n",
       "    </tr>\n",
       "    <tr>\n",
       "      <th>33299</th>\n",
       "      <td>92</td>\n",
       "      <td>118.69</td>\n",
       "    </tr>\n",
       "    <tr>\n",
       "      <th>61882</th>\n",
       "      <td>123</td>\n",
       "      <td>153.45</td>\n",
       "    </tr>\n",
       "  </tbody>\n",
       "</table>\n",
       "</div>"
      ],
      "text/plain": [
       "       Actual  Predicted\n",
       "3822       61      99.44\n",
       "9009      123     133.59\n",
       "29801     123     152.76\n",
       "33299      92     118.69\n",
       "61882     123     153.45"
      ]
     },
     "execution_count": 38,
     "metadata": {},
     "output_type": "execute_result"
    }
   ],
   "source": [
    "df_test = pd.DataFrame({'Actual': y_test, 'Predicted': y_pred})\n",
    "df_test.head()"
   ]
  },
  {
   "cell_type": "code",
   "execution_count": 39,
   "id": "9ec60df7",
   "metadata": {},
   "outputs": [
    {
     "name": "stdout",
     "output_type": "stream",
     "text": [
      "R squared: 90.36\n",
      "Mean Absolute Error: 61.52741676108582\n",
      "Mean Square Error: 6629.565201371646\n",
      "Root Mean Square Error: 81.42214196010595\n"
     ]
    }
   ],
   "source": [
    "meanAbErr = mean_absolute_error(y_test, y_pred)\n",
    "meanSqErr = mean_squared_error(y_test, y_pred)\n",
    "rootMeanSqErr = np.sqrt(mean_squared_error(y_test, y_pred))\n",
    "print('R squared: {:.2f}'.format(regression.score(X_test,y_test)*100))\n",
    "print('Mean Absolute Error:', meanAbErr)\n",
    "print('Mean Square Error:', meanSqErr)\n",
    "print('Root Mean Square Error:', rootMeanSqErr)"
   ]
  },
  {
   "cell_type": "markdown",
   "id": "9d14cc13",
   "metadata": {},
   "source": [
    "### Combining predicted values to dataset"
   ]
  },
  {
   "cell_type": "code",
   "execution_count": 40,
   "id": "d76f23d5",
   "metadata": {},
   "outputs": [],
   "source": [
    "df1=pd.concat([df_train, df_test], axis=0)"
   ]
  },
  {
   "cell_type": "code",
   "execution_count": 41,
   "id": "6b61156b",
   "metadata": {},
   "outputs": [],
   "source": [
    "df1 = df1.drop(['Actual'], axis=1)"
   ]
  },
  {
   "cell_type": "code",
   "execution_count": 42,
   "id": "16953d43",
   "metadata": {},
   "outputs": [],
   "source": [
    "df = df.join(df1)"
   ]
  },
  {
   "cell_type": "code",
   "execution_count": 43,
   "id": "3d65319e",
   "metadata": {},
   "outputs": [
    {
     "data": {
      "text/html": [
       "<div>\n",
       "<style scoped>\n",
       "    .dataframe tbody tr th:only-of-type {\n",
       "        vertical-align: middle;\n",
       "    }\n",
       "\n",
       "    .dataframe tbody tr th {\n",
       "        vertical-align: top;\n",
       "    }\n",
       "\n",
       "    .dataframe thead th {\n",
       "        text-align: right;\n",
       "    }\n",
       "</style>\n",
       "<table border=\"1\" class=\"dataframe\">\n",
       "  <thead>\n",
       "    <tr style=\"text-align: right;\">\n",
       "      <th></th>\n",
       "      <th>ID</th>\n",
       "      <th>Policy Start Date</th>\n",
       "      <th>Policy End Date</th>\n",
       "      <th>Revenue</th>\n",
       "      <th>Feature 1</th>\n",
       "      <th>Feature 2</th>\n",
       "      <th>Feature 3</th>\n",
       "      <th>start_year</th>\n",
       "      <th>ActivePolicyDays</th>\n",
       "      <th>APD_dummy</th>\n",
       "      <th>Predicted</th>\n",
       "    </tr>\n",
       "  </thead>\n",
       "  <tbody>\n",
       "    <tr>\n",
       "      <th>1</th>\n",
       "      <td>2458</td>\n",
       "      <td>2021-07-01</td>\n",
       "      <td>2021-11-01</td>\n",
       "      <td>190.24</td>\n",
       "      <td>1.00</td>\n",
       "      <td>0.00</td>\n",
       "      <td>0.12</td>\n",
       "      <td>2021</td>\n",
       "      <td>123</td>\n",
       "      <td>0</td>\n",
       "      <td>159.59</td>\n",
       "    </tr>\n",
       "    <tr>\n",
       "      <th>6</th>\n",
       "      <td>2463</td>\n",
       "      <td>2021-02-01</td>\n",
       "      <td>2021-11-01</td>\n",
       "      <td>128.21</td>\n",
       "      <td>0.00</td>\n",
       "      <td>0.00</td>\n",
       "      <td>0.13</td>\n",
       "      <td>2021</td>\n",
       "      <td>273</td>\n",
       "      <td>0</td>\n",
       "      <td>147.28</td>\n",
       "    </tr>\n",
       "    <tr>\n",
       "      <th>7</th>\n",
       "      <td>2464</td>\n",
       "      <td>2019-07-01</td>\n",
       "      <td>2021-11-01</td>\n",
       "      <td>311.88</td>\n",
       "      <td>1.00</td>\n",
       "      <td>0.00</td>\n",
       "      <td>0.51</td>\n",
       "      <td>2019</td>\n",
       "      <td>854</td>\n",
       "      <td>1</td>\n",
       "      <td>750.76</td>\n",
       "    </tr>\n",
       "    <tr>\n",
       "      <th>9</th>\n",
       "      <td>2466</td>\n",
       "      <td>2020-01-01</td>\n",
       "      <td>2021-11-01</td>\n",
       "      <td>222.67</td>\n",
       "      <td>0.00</td>\n",
       "      <td>1.00</td>\n",
       "      <td>0.77</td>\n",
       "      <td>2020</td>\n",
       "      <td>670</td>\n",
       "      <td>1</td>\n",
       "      <td>681.37</td>\n",
       "    </tr>\n",
       "    <tr>\n",
       "      <th>10</th>\n",
       "      <td>2467</td>\n",
       "      <td>2020-09-01</td>\n",
       "      <td>2021-11-01</td>\n",
       "      <td>154.45</td>\n",
       "      <td>0.00</td>\n",
       "      <td>0.00</td>\n",
       "      <td>0.55</td>\n",
       "      <td>2020</td>\n",
       "      <td>426</td>\n",
       "      <td>1</td>\n",
       "      <td>474.03</td>\n",
       "    </tr>\n",
       "  </tbody>\n",
       "</table>\n",
       "</div>"
      ],
      "text/plain": [
       "      ID Policy Start Date Policy End Date  Revenue  Feature 1  Feature 2  \\\n",
       "1   2458        2021-07-01      2021-11-01   190.24       1.00       0.00   \n",
       "6   2463        2021-02-01      2021-11-01   128.21       0.00       0.00   \n",
       "7   2464        2019-07-01      2021-11-01   311.88       1.00       0.00   \n",
       "9   2466        2020-01-01      2021-11-01   222.67       0.00       1.00   \n",
       "10  2467        2020-09-01      2021-11-01   154.45       0.00       0.00   \n",
       "\n",
       "    Feature 3  start_year  ActivePolicyDays  APD_dummy  Predicted  \n",
       "1        0.12        2021               123          0     159.59  \n",
       "6        0.13        2021               273          0     147.28  \n",
       "7        0.51        2019               854          1     750.76  \n",
       "9        0.77        2020               670          1     681.37  \n",
       "10       0.55        2020               426          1     474.03  "
      ]
     },
     "execution_count": 43,
     "metadata": {},
     "output_type": "execute_result"
    }
   ],
   "source": [
    "df.head()"
   ]
  },
  {
   "cell_type": "code",
   "execution_count": 44,
   "id": "a3ded84e",
   "metadata": {},
   "outputs": [],
   "source": [
    "df['Pred_PolicyEndDate'] = df['Policy End Date'] + pd.to_timedelta(df['Predicted'], unit = 'D')\n",
    "df['Pred_PolicyEndDate'] = pd.to_datetime(df['Pred_PolicyEndDate']).dt.normalize()"
   ]
  },
  {
   "cell_type": "code",
   "execution_count": 45,
   "id": "756a6f56",
   "metadata": {},
   "outputs": [],
   "source": [
    "s = df['Pred_PolicyEndDate'].value_counts().sort_index()"
   ]
  },
  {
   "cell_type": "code",
   "execution_count": 46,
   "id": "c9a75b5b",
   "metadata": {},
   "outputs": [
    {
     "data": {
      "text/plain": [
       "<AxesSubplot:>"
      ]
     },
     "execution_count": 46,
     "metadata": {},
     "output_type": "execute_result"
    },
    {
     "data": {
      "image/png": "[encoded data removed]",
      "text/plain": [
       "<Figure size 432x288 with 1 Axes>"
      ]
     },
     "metadata": {
      "needs_background": "light"
     },
     "output_type": "display_data"
    }
   ],
   "source": [
    "s.plot()"
   ]
  },
  {
   "cell_type": "markdown",
   "id": "bd15e6b5",
   "metadata": {},
   "source": [
    "From the chart above, about 1k of the policies that have a Policy End Date of November 2021 will end mid-2022. In 2023, 500 policies with a November 2021 Policy End Date will be in the middle of the year as well. However, in 2024 there's a jump of 400 November 2021 Policy End Dates that will end at the end of 2023."
   ]
  },
  {
   "cell_type": "code",
   "execution_count": 47,
   "id": "e4f9f5f5",
   "metadata": {},
   "outputs": [],
   "source": [
    "df2 = (df['Pred_PolicyEndDate']\n",
    "                       .value_counts()\n",
    "                       .sort_index()\n",
    "                       .rename_axis('date')\n",
    "                       .reset_index(name='count'))"
   ]
  },
  {
   "cell_type": "code",
   "execution_count": 48,
   "id": "426a531f",
   "metadata": {},
   "outputs": [
    {
     "name": "stdout",
     "output_type": "stream",
     "text": [
      "    year      month  count\n",
      "0   2021      April      8\n",
      "1   2021     August     90\n",
      "2   2021   December    484\n",
      "3   2021   February      7\n",
      "4   2021    January      5\n",
      "5   2021       July    138\n",
      "6   2021       June    132\n",
      "7   2021      March     15\n",
      "8   2021        May     33\n",
      "9   2021   November    296\n",
      "10  2021    October    260\n",
      "11  2021  September    153\n",
      "12  2022      April   6037\n",
      "13  2022     August     53\n",
      "14  2022   December    170\n",
      "15  2022   February   3131\n",
      "16  2022    January   2199\n",
      "17  2022       July    980\n",
      "18  2022       June     51\n",
      "19  2022      March   6055\n",
      "20  2022        May    263\n",
      "21  2022   November     19\n",
      "22  2022    October     17\n",
      "23  2022  September     15\n",
      "24  2023      April   2706\n",
      "25  2023     August    515\n",
      "26  2023   December    432\n",
      "27  2023   February    850\n",
      "28  2023    January    347\n",
      "29  2023       July    405\n",
      "30  2023       June    282\n",
      "31  2023      March   2443\n",
      "32  2023        May    345\n",
      "33  2023   November   2722\n",
      "34  2023    October    582\n",
      "35  2023  September    484\n",
      "36  2024      April     52\n",
      "37  2024   February    129\n",
      "38  2024    January     77\n",
      "39  2024      March      6\n",
      "40  2024        May      6\n"
     ]
    }
   ],
   "source": [
    "print(df2.groupby([df2['date'].dt.year.rename('year'), \n",
    "                   df2['date'].dt.month_name().rename('month')])\n",
    "         ['count'].sum().reset_index())"
   ]
  },
  {
   "cell_type": "code",
   "execution_count": null,
   "id": "b9641a06",
   "metadata": {},
   "outputs": [],
   "source": []
  }
 ],
 "metadata": {
  "kernelspec": {
   "display_name": "Python 3 (ipykernel)",
   "language": "python",
   "name": "python3"
  },
  "language_info": {
   "codemirror_mode": {
    "name": "ipython",
    "version": 3
   },
   "file_extension": ".py",
   "mimetype": "text/x-python",
   "name": "python",
   "nbconvert_exporter": "python",
   "pygments_lexer": "ipython3",
   "version": "3.9.12"
  }
 },
 "nbformat": 4,
 "nbformat_minor": 5
}
